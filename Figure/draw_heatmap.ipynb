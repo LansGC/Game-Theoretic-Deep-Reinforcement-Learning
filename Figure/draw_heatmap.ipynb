{
 "cells": [
  {
   "cell_type": "code",
   "execution_count": null,
   "metadata": {},
   "outputs": [],
   "source": [
    "import matplotlib.pyplot as plt\n",
    "from skimage import io\n",
    "from matplotlib.pyplot import MultipleLocator\n",
    "import numpy as np\n",
    "\n",
    "import brewer2mpl\n",
    "# brewer2mpl.get_map args: set name set type number of colors\n",
    "bmap = brewer2mpl.get_map('Pastel1', 'qualitative', 3)\n",
    "new_colors = bmap.mpl_colors\n",
    "# new_colors = ['seashell', 'honeydew', 'lightcyan']\n",
    "\n",
    "\n",
    "fig_title = ['(a) Scenario 1', '(b) Scenario 2', '(c) Scenario 3']\n",
    "\n",
    "colors = ['lightcoral', 'orange', 'lightgreen', 'cornflowerblue', 'darkviolet', 'seashell', 'honeydew', 'lightcyan']\n",
    "markers = ['*', 'd', 's', '^', 'o']\n",
    "font_size = 45\n",
    "legend_size = 40\n",
    "markersize = 20\n",
    "plt.figure(figsize=(48, 16))            # 确定图像画布的大小\n",
    "plt.rcParams['font.sans-serif'] = ['Nimbus Roman']  # 设置字体\n",
    "#################################################################### #################################################################\n",
    "plt.subplot(1, 3, 1)                        # 将画布分为两列\n",
    "plt.title(fig_title[0], fontsize=font_size, y=-0.09)     # 图的title\n",
    "img=io.imread(\"./cd08.png\")\n",
    "plt.axis('off')\n",
    "plt.imshow(img, interpolation='nearest', aspect='auto')\n",
    "\n",
    "#################################################################### #################################################################\n",
    "plt.subplot(1, 3, 2) \n",
    "plt.title(fig_title[1], fontsize=font_size, y=-0.09)     # 图的title\n",
    "img=io.imread(\"./cd23.png\")\n",
    "plt.axis('off')\n",
    "plt.imshow(img, interpolation='nearest', aspect='auto')\n",
    "\n",
    "\n",
    "#################################################################### #################################################################\n",
    "plt.subplot(1, 3, 3) \n",
    "plt.title(fig_title[2], fontsize=font_size, y=-0.09)     # 图的title\n",
    "img=io.imread(\"./xa08.png\")\n",
    "plt.axis('off')\n",
    "plt.imshow(img, interpolation='nearest', aspect='auto')\n",
    "\n",
    "# plt.savefig('different_bandwidth.png', dpi=50)\n",
    "plt.subplots_adjust(wspace =0.15)#调整子图间距\n",
    "plt.savefig(\"Fig-3.pdf\", bbox_inches='tight')\n",
    "plt.show()\n"
   ]
  }
 ],
 "metadata": {
  "language_info": {
   "name": "python"
  },
  "orig_nbformat": 4
 },
 "nbformat": 4,
 "nbformat_minor": 2
}
